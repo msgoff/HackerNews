{
 "cells": [
  {
   "cell_type": "code",
   "execution_count": 6,
   "metadata": {
    "collapsed": false
   },
   "outputs": [],
   "source": [
    "from tqdm import tqdm\n",
    "from redis import Redis\n",
    "import json"
   ]
  },
  {
   "cell_type": "code",
   "execution_count": 7,
   "metadata": {
    "collapsed": false
   },
   "outputs": [],
   "source": [
    "#create a connection with Redis\n",
    "r=Redis()"
   ]
  },
  {
   "cell_type": "code",
   "execution_count": 8,
   "metadata": {
    "collapsed": false
   },
   "outputs": [
    {
     "data": {
      "text/plain": [
       "True"
      ]
     },
     "execution_count": 8,
     "metadata": {},
     "output_type": "execute_result"
    }
   ],
   "source": [
    "#verify write access\n",
    "r.set('a',5)"
   ]
  },
  {
   "cell_type": "code",
   "execution_count": 9,
   "metadata": {
    "collapsed": true
   },
   "outputs": [],
   "source": [
    "#open the HN_Stories Files created by using their API \n",
    "f=open('../HN_Stories','r')\n",
    "data=f.read()"
   ]
  },
  {
   "cell_type": "code",
   "execution_count": null,
   "metadata": {
    "collapsed": false
   },
   "outputs": [],
   "source": []
  },
  {
   "cell_type": "code",
   "execution_count": 18,
   "metadata": {
    "collapsed": false
   },
   "outputs": [],
   "source": [
    "#first entry of the json file\n",
    "new_data_head=json.loads(data.split('}\\n{')[0]+'}')"
   ]
  },
  {
   "cell_type": "code",
   "execution_count": 26,
   "metadata": {
    "collapsed": false
   },
   "outputs": [
    {
     "data": {
      "text/plain": [
       "1475591929"
      ]
     },
     "execution_count": 26,
     "metadata": {},
     "output_type": "execute_result"
    }
   ],
   "source": [
    "#every entry except for the last\n",
    "new_data_xs=json.loads('{'+data.split('}\\n{')[1]+'}')\n",
    "new_data_xs['time']"
   ]
  },
  {
   "cell_type": "code",
   "execution_count": 24,
   "metadata": {
    "collapsed": false
   },
   "outputs": [
    {
     "data": {
      "text/plain": [
       "6550674"
      ]
     },
     "execution_count": 24,
     "metadata": {},
     "output_type": "execute_result"
    }
   ],
   "source": [
    "#The number of entries in the db - 2 \n",
    "len(data.split('}\\n{'))"
   ]
  },
  {
   "cell_type": "code",
   "execution_count": 31,
   "metadata": {
    "collapsed": false
   },
   "outputs": [
    {
     "data": {
      "text/plain": [
       "'\\n  \"by\" : \"williswee\",\\n  \"descendants\" : 0,\\n  \"id\" : 12635847,\\n  \"score\" : 3,\\n  \"time\" : 1475591929,\\n  \"title\" : \"Stripe officially launches in Japan with a new investor\",\\n  \"type\" : \"story\",\\n  \"url\" : \"https://www.techinasia.com/stripe-official-japan-launch\"\\n'"
      ]
     },
     "execution_count": 31,
     "metadata": {},
     "output_type": "execute_result"
    }
   ],
   "source": [
    "new_data=data.split('}\\n{')\n",
    "new_data[1]"
   ]
  },
  {
   "cell_type": "code",
   "execution_count": null,
   "metadata": {
    "collapsed": false
   },
   "outputs": [
    {
     "name": "stdout",
     "output_type": "stream",
     "text": [
      "709\n",
      "2369\n",
      "3858\n",
      "4381\n",
      "6803\n",
      "6878\n",
      "6906\n",
      "9765\n",
      "17599\n",
      "18555\n",
      "30091\n",
      "32506\n",
      "39474\n",
      "57301\n",
      "58009\n",
      "75778\n",
      "86970\n",
      "113988\n",
      "122743\n",
      "151880\n",
      "161946\n",
      "195565\n",
      "208778\n",
      "221202\n",
      "227532\n",
      "238049\n",
      "258628\n",
      "275848\n",
      "280771\n",
      "282459\n",
      "293463\n",
      "293717\n",
      "293721\n",
      "335673\n",
      "335674\n",
      "335677\n",
      "335683\n",
      "335687\n",
      "335689\n",
      "335692\n",
      "335693\n",
      "335700\n",
      "335704\n",
      "335705\n",
      "335709\n",
      "335715\n",
      "335727\n",
      "335728\n",
      "335729\n",
      "335737\n",
      "335740\n",
      "335741\n",
      "335742\n",
      "335743\n",
      "335744\n",
      "335747\n",
      "335749\n",
      "335751\n",
      "335753\n",
      "335758\n",
      "345023\n",
      "347587\n",
      "384348\n",
      "399342\n",
      "425220\n",
      "435215\n",
      "435245\n",
      "461604\n",
      "468941\n",
      "476877\n",
      "490835\n",
      "504199\n",
      "510430\n",
      "511407\n",
      "515337\n",
      "537477\n",
      "587747\n",
      "610344\n",
      "622695\n",
      "628913\n",
      "658127\n",
      "658508\n",
      "672334\n",
      "700384\n",
      "715917\n",
      "718546\n",
      "719058\n",
      "808475\n",
      "883394\n",
      "892939\n",
      "893747\n",
      "902853\n",
      "918069\n",
      "939471\n",
      "949545\n",
      "967093\n",
      "1030535\n",
      "1040668\n",
      "1060792\n",
      "1123343\n",
      "1128843\n",
      "1158769\n",
      "1158771\n",
      "1158772\n",
      "1158776\n",
      "1182561\n",
      "1215370\n",
      "1263545\n",
      "1270311\n",
      "1277204\n",
      "1292536\n",
      "1292540\n",
      "1310901\n"
     ]
    }
   ],
   "source": [
    "\n",
    "for ix in range(1,6550674):\n",
    "    try:\n",
    "        dct=json.loads('{'+new_data[ix] +'}')\n",
    "        key=dct['time']\n",
    "        r.hmset(key,dct)\n",
    "    except:\n",
    "        print ix "
   ]
  },
  {
   "cell_type": "code",
   "execution_count": null,
   "metadata": {
    "collapsed": true
   },
   "outputs": [],
   "source": []
  }
 ],
 "metadata": {
  "kernelspec": {
   "display_name": "Python 2",
   "language": "python",
   "name": "python2"
  },
  "language_info": {
   "codemirror_mode": {
    "name": "ipython",
    "version": 2
   },
   "file_extension": ".py",
   "mimetype": "text/x-python",
   "name": "python",
   "nbconvert_exporter": "python",
   "pygments_lexer": "ipython2",
   "version": "2.7.6"
  }
 },
 "nbformat": 4,
 "nbformat_minor": 1
}
